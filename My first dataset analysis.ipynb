{
 "cells": [
  {
   "cell_type": "code",
   "execution_count": 1,
   "id": "c6414a6a",
   "metadata": {},
   "outputs": [
    {
     "name": "stderr",
     "output_type": "stream",
     "text": [
      "also installing the dependencies ‘mnormt’, ‘GPArotation’\n",
      "\n",
      "\n",
      "Updating HTML index of packages in '.Library'\n",
      "\n",
      "Making 'packages.html' ...\n",
      " done\n",
      "\n"
     ]
    }
   ],
   "source": [
    "install.packages(\"psych\") ## Download and install psych for graphs\n",
    "library(psych) ## Load psych into this current instance of R but its slowing it down \n",
    "\n",
    "df <- read.csv(\"trials.csv\")\n",
    " #Add a new column named \"BMI\" \n",
    "df$BMI <- df$Weight / (df$Height^2 / 10000)\n",
    " \n",
    "#Print the modified data frame\n"
   ]
  },
  {
   "cell_type": "markdown",
   "id": "4eecbb3c",
   "metadata": {},
   "source": [
    "<b>Part One</b>\n",
    "First, lets produce a summary table of baseline patient characteristics for\n",
    "each treatment arm separately (i.e. in separate columns).Then, summarise Age, Sex, BMI, Diabetic status, SBP and DBP at the start of the study using\n",
    "appropriate summary statistics for each variable. \n",
    "Indicate in the table which statistics you use for each variable to show whether patients allocated into two arms are comparable."
   ]
  },
  {
   "cell_type": "code",
   "execution_count": 2,
   "id": "9eea46e5",
   "metadata": {
    "scrolled": true
   },
   "outputs": [
    {
     "data": {
      "text/html": [
       "<style>\n",
       ".list-inline {list-style: none; margin:0; padding: 0}\n",
       ".list-inline>li {display: inline-block}\n",
       ".list-inline>li:not(:last-child)::after {content: \"\\00b7\"; padding: 0 .5ex}\n",
       "</style>\n",
       "<ol class=list-inline><li>'Patid'</li><li>'Age'</li><li>'Sex'</li><li>'Trt'</li><li>'SBP1'</li><li>'DBP1'</li><li>'SBP2'</li><li>'DBP2'</li><li>'Diab'</li><li>'Weight'</li><li>'Height'</li><li>'BMI'</li></ol>\n"
      ],
      "text/latex": [
       "\\begin{enumerate*}\n",
       "\\item 'Patid'\n",
       "\\item 'Age'\n",
       "\\item 'Sex'\n",
       "\\item 'Trt'\n",
       "\\item 'SBP1'\n",
       "\\item 'DBP1'\n",
       "\\item 'SBP2'\n",
       "\\item 'DBP2'\n",
       "\\item 'Diab'\n",
       "\\item 'Weight'\n",
       "\\item 'Height'\n",
       "\\item 'BMI'\n",
       "\\end{enumerate*}\n"
      ],
      "text/markdown": [
       "1. 'Patid'\n",
       "2. 'Age'\n",
       "3. 'Sex'\n",
       "4. 'Trt'\n",
       "5. 'SBP1'\n",
       "6. 'DBP1'\n",
       "7. 'SBP2'\n",
       "8. 'DBP2'\n",
       "9. 'Diab'\n",
       "10. 'Weight'\n",
       "11. 'Height'\n",
       "12. 'BMI'\n",
       "\n",
       "\n"
      ],
      "text/plain": [
       " [1] \"Patid\"  \"Age\"    \"Sex\"    \"Trt\"    \"SBP1\"   \"DBP1\"   \"SBP2\"   \"DBP2\"  \n",
       " [9] \"Diab\"   \"Weight\" \"Height\" \"BMI\"   "
      ]
     },
     "metadata": {},
     "output_type": "display_data"
    }
   ],
   "source": [
    "names(df)#shows the different columns of the table"
   ]
  },
  {
   "cell_type": "markdown",
   "id": "08ad7709",
   "metadata": {},
   "source": [
    "Statistics used for each variable:\n",
    "<ul>\n",
    "    <li>Age: mean, range</li>\n",
    "    <li>Sex: percentage ratio</li>\n",
    "    <li>BMI: mean, standard deviation</li>\n",
    "    <li>Diabetic status: ratio(positive and in percentage)</li>\n",
    "    <li>SBP: mean, standard deviation</li>\n",
    "    <li>DBP: mean, standard deviaton</li>\n",
    "  </ul>"
   ]
  },
  {
   "cell_type": "code",
   "execution_count": 3,
   "id": "4b23bfa0",
   "metadata": {
    "scrolled": true
   },
   "outputs": [
    {
     "data": {
      "text/plain": [
       "\n",
       "  0   1 \n",
       "191 109 "
      ]
     },
     "metadata": {},
     "output_type": "display_data"
    }
   ],
   "source": [
    "table(df$Diab)"
   ]
  },
  {
   "cell_type": "code",
   "execution_count": 4,
   "id": "e88e97c6",
   "metadata": {},
   "outputs": [
    {
     "data": {
      "text/plain": [
       "\n",
       "  0   1 \n",
       "153 147 "
      ]
     },
     "metadata": {},
     "output_type": "display_data"
    }
   ],
   "source": [
    "table(df$Sex)"
   ]
  },
  {
   "cell_type": "code",
   "execution_count": 5,
   "id": "bdf4431e",
   "metadata": {},
   "outputs": [],
   "source": [
    "\n",
    "meanAge <-(mean(df$Age))\n",
    "min_age <- min(df$Age)\n",
    "max_age <- max(df$Age)\n",
    "sdAge <- sd(df$Age)\n",
    "ageRange<- max_age - min_age\n",
    "\n",
    "meanSBP <- (mean(df$SBP1))\n",
    "sdSBP <- (sd(df$SBP1))\n",
    "min_SBP <- min(df$SBP1)\n",
    "max_SBP <- max(df$SBP1)\n",
    "SBPrange<- max_SBP - min_SBP \n",
    "\n",
    "meanDBP <- (mean(df$DBP1))\n",
    "sdDBP<-(sd(df$DBP1))\n",
    "min_DBP <- min(df$DBP1)\n",
    "max_DBP <- max(df$DBP1)\n",
    "DBPrange<- max_DBP - min_DBP \n",
    "\n",
    "meanBMI<-(mean(df$BMI))\n",
    "sdBMI <-(sd(df$BMI))\n",
    "min_BMI <- min(df$BMI)\n",
    "max_BMI <- max(df$BMI)\n",
    "BMI_range<-max_BMI - min_BMI \n",
    "\n",
    "femalePercentage <- (147/300)*100\n",
    "malePercentage <- (153/300)*100\n",
    "\n",
    "maleDiab <- (malePercentage/191)*100 #showing the % value of males positive with diabetes\n",
    "femaleDiab <- (femalePercentage/109)*100 #showing the % value of females positive with diabetes\n",
    "\n",
    "maleDiab <- round(maleDiab,2) #showing the % value of males positive with diabetes\n",
    "femaleDiab <- round(femaleDiab,2) #showing the % value of females positive with diabetes"
   ]
  },
  {
   "cell_type": "markdown",
   "id": "51d79b3d",
   "metadata": {},
   "source": [
    "Creating a chracterstics table for the partcipants"
   ]
  },
  {
   "cell_type": "code",
   "execution_count": 6,
   "id": "e5a6c132",
   "metadata": {},
   "outputs": [
    {
     "data": {
      "text/html": [
       "<table class=\"dataframe\">\n",
       "<caption>A data.frame: 6 × 6</caption>\n",
       "<thead>\n",
       "\t<tr><th scope=col>Characteristics</th><th scope=col>mean</th><th scope=col>sd</th><th scope=col>range</th><th scope=col>Males</th><th scope=col>Females</th></tr>\n",
       "\t<tr><th scope=col>&lt;chr&gt;</th><th scope=col>&lt;chr&gt;</th><th scope=col>&lt;chr&gt;</th><th scope=col>&lt;chr&gt;</th><th scope=col>&lt;chr&gt;</th><th scope=col>&lt;chr&gt;</th></tr>\n",
       "</thead>\n",
       "<tbody>\n",
       "\t<tr><td>Age                                  </td><td>59.6266666666667</td><td>12.6382901063235</td><td>72              </td><td>na  </td><td>na   </td></tr>\n",
       "\t<tr><td>Sex                                  </td><td>na              </td><td>na              </td><td>na              </td><td>153 </td><td>147  </td></tr>\n",
       "\t<tr><td>BMI                                  </td><td>28.3101664401655</td><td>7.89670613075354</td><td>45.6108418207328</td><td>na  </td><td>na   </td></tr>\n",
       "\t<tr><td>Diabetic Status(postive %)           </td><td>na              </td><td>na              </td><td>na              </td><td>26.7</td><td>44.95</td></tr>\n",
       "\t<tr><td>Systolic Blood Pressure before(mmHg) </td><td>130.713333333333</td><td>15.3068226057261</td><td>103             </td><td>na  </td><td>na   </td></tr>\n",
       "\t<tr><td>Diastolic Blood Pressure before(mmHg)</td><td>86.03           </td><td>16.1536031993197</td><td>109             </td><td>na  </td><td>na   </td></tr>\n",
       "</tbody>\n",
       "</table>\n"
      ],
      "text/latex": [
       "A data.frame: 6 × 6\n",
       "\\begin{tabular}{llllll}\n",
       " Characteristics & mean & sd & range & Males & Females\\\\\n",
       " <chr> & <chr> & <chr> & <chr> & <chr> & <chr>\\\\\n",
       "\\hline\n",
       "\t Age                                   & 59.6266666666667 & 12.6382901063235 & 72               & na   & na   \\\\\n",
       "\t Sex                                   & na               & na               & na               & 153  & 147  \\\\\n",
       "\t BMI                                   & 28.3101664401655 & 7.89670613075354 & 45.6108418207328 & na   & na   \\\\\n",
       "\t Diabetic Status(postive \\%)            & na               & na               & na               & 26.7 & 44.95\\\\\n",
       "\t Systolic Blood Pressure before(mmHg)  & 130.713333333333 & 15.3068226057261 & 103              & na   & na   \\\\\n",
       "\t Diastolic Blood Pressure before(mmHg) & 86.03            & 16.1536031993197 & 109              & na   & na   \\\\\n",
       "\\end{tabular}\n"
      ],
      "text/markdown": [
       "\n",
       "A data.frame: 6 × 6\n",
       "\n",
       "| Characteristics &lt;chr&gt; | mean &lt;chr&gt; | sd &lt;chr&gt; | range &lt;chr&gt; | Males &lt;chr&gt; | Females &lt;chr&gt; |\n",
       "|---|---|---|---|---|---|\n",
       "| Age                                   | 59.6266666666667 | 12.6382901063235 | 72               | na   | na    |\n",
       "| Sex                                   | na               | na               | na               | 153  | 147   |\n",
       "| BMI                                   | 28.3101664401655 | 7.89670613075354 | 45.6108418207328 | na   | na    |\n",
       "| Diabetic Status(postive %)            | na               | na               | na               | 26.7 | 44.95 |\n",
       "| Systolic Blood Pressure before(mmHg)  | 130.713333333333 | 15.3068226057261 | 103              | na   | na    |\n",
       "| Diastolic Blood Pressure before(mmHg) | 86.03            | 16.1536031993197 | 109              | na   | na    |\n",
       "\n"
      ],
      "text/plain": [
       "  Characteristics                       mean             sd              \n",
       "1 Age                                   59.6266666666667 12.6382901063235\n",
       "2 Sex                                   na               na              \n",
       "3 BMI                                   28.3101664401655 7.89670613075354\n",
       "4 Diabetic Status(postive %)            na               na              \n",
       "5 Systolic Blood Pressure before(mmHg)  130.713333333333 15.3068226057261\n",
       "6 Diastolic Blood Pressure before(mmHg) 86.03            16.1536031993197\n",
       "  range            Males Females\n",
       "1 72               na    na     \n",
       "2 na               153   147    \n",
       "3 45.6108418207328 na    na     \n",
       "4 na               26.7  44.95  \n",
       "5 103              na    na     \n",
       "6 109              na    na     "
      ]
     },
     "metadata": {},
     "output_type": "display_data"
    }
   ],
   "source": [
    "Characteristics <- c(\"Age\", \"Sex\",\"BMI\",\"Diabetic Status(postive %)\",\"Systolic Blood Pressure before(mmHg)\",\"Diastolic Blood Pressure before(mmHg)\")\n",
    "mean <- c(meanAge,\"na\",meanBMI,\"na\",meanSBP,meanDBP)\n",
    "sd <- c(sdAge,\"na\",sdBMI,\"na\",sdSBP,sdDBP)\n",
    "range<- c(ageRange,\"na\",BMI_range,\"na\",SBPrange,DBPrange)\n",
    "Males<-c(\"na\",153,\"na\",maleDiab,\"na\",\"na\")\n",
    "Females<-c(\"na\",147,\"na\",femaleDiab,\"na\",\"na\")\n",
    "\n",
    "\n",
    "summaryTable <- data.frame(Characteristics, mean, sd,range,Males,Females)\n",
    "summaryTable "
   ]
  },
  {
   "cell_type": "markdown",
   "id": "96180747",
   "metadata": {},
   "source": [
    "Now we will produce a scatterplot to visually explore whether there is an association between DBP before and after treatment. \n",
    "<br></br>\n",
    "The data is mostly clustered in one area, there isn’t a very clear relationship between the DBP before and after the trial, but it’s not curve shaped so its linear. The ab line is also slightly increased over the course of the data which further supports a linear relationship. "
   ]
  },
  {
   "cell_type": "code",
   "execution_count": 7,
   "id": "60845960",
   "metadata": {},
   "outputs": [
    {
     "data": {
      "image/png": "[encoded data removed]",
      "text/plain": [
       "Plot with title “Scatterplot of Diastolic Blood Pressure”"
      ]
     },
     "metadata": {
      "image/png": {
       "height": 420,
       "width": 420
      }
     },
     "output_type": "display_data"
    }
   ],
   "source": [
    "plot(df$DBP1, df$DBP2, \n",
    "  pch = c(16, 1), # Different point characters\n",
    "  col = c(\"red\", \"blue\"), # Colors for each point set\n",
    "  xlab = \"Before\", \n",
    "  ylab = \"After\",\n",
    "  main = \"Scatterplot of Diastolic Blood Pressure\"  \n",
    ")\n",
    "#displaying the labels for the graph\n",
    "legend(x=\"right\", legend = c(\"before\",\"after\"),col = c(\"red\", \"blue\"), pch = c(16, 1)) "
   ]
  },
  {
   "cell_type": "markdown",
   "id": "e1457ee7",
   "metadata": {},
   "source": [
    "Lets calculate a suitable statistic to explore whether there is a linear association between DBP\n",
    "before and after treatment. Is the statistics providing you good evidence to apply linear\n",
    "regression to above mentioned association? Lets see...\n",
    "<br></br>\n",
    "The coefficient calculated is 0.034 meaning the direction of the correlation is positive, but a weak positive correlation. However, when calculating the t statistic to get the p-value(0.54), it was larger than p<0.05, proving no significant or concrete association between DBP before the trial and DBP after the trial."
   ]
  },
  {
   "cell_type": "code",
   "execution_count": 8,
   "id": "5de4dfaa",
   "metadata": {},
   "outputs": [
    {
     "name": "stdout",
     "output_type": "stream",
     "text": [
      "    Treatment Diastolic_before Diastolic_after\n",
      "1           1               83              65\n",
      "2           1               90              79\n",
      "3           1              119             104\n",
      "4           1              103              59\n",
      "5           0               72             118\n",
      "6           0               79             103\n",
      "7           1               68              81\n",
      "8           1              113              43\n",
      "9           0               62              86\n",
      "10          0               86              91\n",
      "11          0               60              51\n",
      "12          0              104              61\n",
      "13          1               91              81\n",
      "14          0               93              95\n",
      "15          0               92              87\n",
      "16          0               84              79\n",
      "17          1               88              84\n",
      "18          1               69              71\n",
      "19          0               87              69\n",
      "20          1               97             103\n",
      "21          0               79              78\n",
      "22          1               86              81\n",
      "23          1               75              82\n",
      "24          0               73              94\n",
      "25          0               93              95\n",
      "26          0               85              81\n",
      "27          1               91              55\n",
      "28          0               78              67\n",
      "29          1               71              78\n",
      "30          0               88              86\n",
      "31          1              107              74\n",
      "32          1               98              35\n",
      "33          0               81              78\n",
      "34          0               72              90\n",
      "35          0               91              88\n",
      "36          0              116              60\n",
      "37          0               94              60\n",
      "38          1               98              68\n",
      "39          1               77              65\n",
      "40          0               82              77\n",
      "41          0               85              99\n",
      "42          0               72              55\n",
      "43          1               94              50\n",
      "44          1               90              76\n",
      "45          1               77              86\n",
      "46          0              102              68\n",
      "47          0              110              82\n",
      "48          1               67              63\n",
      "49          1               68             107\n",
      "50          0               61              57\n",
      "51          0               92              67\n",
      "52          0               85              82\n",
      "53          0               80              42\n",
      "54          1               94              58\n",
      "55          0               88              91\n",
      "56          1              103              70\n",
      "57          1               75              82\n",
      "58          0              106              96\n",
      "59          1               74              74\n",
      "60          0              108              85\n",
      "61          1               76              56\n",
      "62          1               66              66\n",
      "63          0               86              64\n",
      "64          1               75              65\n",
      "65          1              120              51\n",
      "66          0               77              64\n",
      "67          1               87              67\n",
      "68          0               75              99\n",
      "69          1               72              73\n",
      "70          0               46              76\n",
      "71          0               88              91\n",
      "72          1               64              63\n",
      "73          1               87              84\n",
      "74          1               98              59\n",
      "75          0               80              99\n",
      "76          0               78              49\n",
      "77          1               75              86\n",
      "78          1               93              93\n",
      "79          0               79              81\n",
      "80          0               62              77\n",
      "81          0               73              76\n",
      "82          0               58              67\n",
      "83          1               74              59\n",
      "84          0               87              70\n",
      "85          0               70              50\n",
      "86          1              100              97\n",
      "87          1               86              61\n",
      "88          0               75              75\n",
      "89          1               80              79\n",
      "90          0               76              96\n",
      "91          0               94              74\n",
      "92          0               79              72\n",
      "93          1               64              50\n",
      "94          1               90              78\n",
      "95          0              116              83\n",
      "96          0              107              84\n",
      "97          0              105              53\n",
      "98          0               94              89\n",
      "99          0               52              74\n",
      "100         1               68              78\n",
      "101         1               57              91\n",
      "102         0               64              85\n",
      "103         1               64              68\n",
      "104         0               82              74\n",
      "105         0               79              56\n",
      "106         0               88              56\n",
      "107         1               92              69\n",
      "108         0              107              53\n",
      "109         1               98              76\n",
      "110         1               74              67\n",
      "111         0               96              75\n",
      "112         1               74              68\n",
      "113         0               75              77\n",
      "114         1               97              65\n",
      "115         1               91              84\n",
      "116         1               52              68\n",
      "117         1               76              86\n",
      "118         1               92              84\n",
      "119         1               95             113\n",
      "120         1              103              69\n",
      "121         0               98              69\n",
      "122         0              111              78\n",
      "123         0               75              87\n",
      "124         0               75              71\n",
      "125         0               77              84\n",
      "126         1              115              97\n",
      "127         0               78              87\n",
      "128         1              109              59\n",
      "129         1               76              69\n",
      "130         0               89             104\n",
      "131         1               82              52\n",
      "132         0               78              65\n",
      "133         1               89              90\n",
      "134         0               85              80\n",
      "135         0               75              80\n",
      "136         1               81              66\n",
      "137         1              105              78\n",
      "138         1              102              85\n",
      "139         1               85              67\n",
      "140         1               83              81\n",
      "141         1               76              81\n",
      "142         0               86              78\n",
      "143         1               75              96\n",
      "144         0               93              56\n",
      "145         0               78              85\n",
      "146         0               94              77\n",
      "147         1               75              75\n",
      "148         0               80              76\n",
      "149         0               85              44\n",
      "150         1               85              74\n",
      "151         0               68              82\n",
      "152         0               95             102\n",
      "153         0              116              70\n",
      "154         0               66              83\n",
      "155         0               92              68\n",
      "156         1               90              89\n",
      "157         1               82              66\n",
      "158         1               70              57\n",
      "159         0               68              78\n",
      "160         1               88             103\n",
      "161         0               85              71\n",
      "162         1               68              62\n",
      "163         1              155              72\n",
      "164         0              103              68\n",
      "165         0               93              83\n",
      "166         0               99              72\n",
      "167         0              107              93\n",
      "168         1              106              56\n",
      "169         1               80              77\n",
      "170         1              108              50\n",
      "171         1               83              60\n",
      "172         1               83              75\n",
      "173         1              101              72\n",
      "174         1               68              86\n",
      "175         0               96              95\n",
      "176         0              131              74\n",
      "177         0              118             103\n",
      "178         1               97              43\n",
      "179         0               83              74\n",
      "180         1              105              73\n",
      "181         0               61              92\n",
      "182         0               67             101\n",
      "183         0               78              46\n",
      "184         1               84              61\n",
      "185         1               82             102\n",
      "186         0               75              97\n",
      "187         0               86              79\n",
      "188         0               70              77\n",
      "189         1              113              58\n",
      "190         1               81              51\n",
      "191         1               68              59\n",
      "192         1              109              83\n",
      "193         1               72              73\n",
      "194         0               81              87\n",
      "195         0               64              66\n",
      "196         1              114              84\n",
      "197         1              130              88\n",
      "198         1               68              78\n",
      "199         0               81              97\n",
      "200         0               72              52\n",
      "201         0               74              69\n",
      "202         0               93              74\n",
      "203         0               98              83\n",
      "204         1              104              63\n",
      "205         0               88              65\n",
      "206         1              109              73\n",
      "207         0               91              90\n",
      "208         1               79              91\n",
      "209         1              104              95\n",
      "210         1               96              82\n",
      "211         1               97              69\n",
      "212         0              107              90\n",
      "213         1               66              56\n",
      "214         1               65              80\n",
      "215         1               88              75\n",
      "216         0               90              57\n",
      "217         1               77              89\n",
      "218         1               70              76\n",
      "219         0               89              71\n",
      "220         1               88              77\n",
      "221         0              103              92\n",
      "222         1               86              83\n",
      "223         0               86              88\n",
      "224         1               81              65\n",
      "225         1               81              72\n",
      "226         0              103              69\n",
      "227         1              103              57\n",
      "228         1               76              48\n",
      "229         1               60              65\n",
      "230         1               54              68\n",
      "231         0               77              84\n",
      "232         0               64              58\n",
      "233         0               89              52\n",
      "234         0               77              69\n",
      "235         0               88              97\n",
      "236         1              106              89\n",
      "237         0               70              98\n",
      "238         0               98              92\n",
      "239         1               90              79\n",
      "240         0               99              81\n",
      "241         1               97              64\n",
      "242         1              107              76\n",
      "243         0               82              73\n",
      "244         0               74              89\n",
      "245         1               70              83\n",
      "246         0               69              78\n",
      "247         0               87              86\n",
      "248         0               77              73\n",
      "249         0              109              69\n",
      "250         0               86              77\n",
      "251         0               83              62\n",
      "252         1               86              44\n",
      "253         1              124              62\n",
      "254         1               73              68\n",
      "255         1               82              31\n",
      "256         1              139              64\n",
      "257         1               47              75\n",
      "258         1               95              72\n",
      "259         0               72              54\n",
      "260         1               84              85\n",
      "261         0               76              88\n",
      "262         0              104              72\n",
      "263         1              101              95\n",
      "264         1               79              58\n",
      "265         1               76              72\n",
      "266         0               81              86\n",
      "267         0               89              89\n",
      "268         0               86              88\n",
      "269         1               79              78\n",
      "270         1               75              46\n",
      "271         0               57              78\n",
      "272         1               91              76\n",
      "273         1               80              47\n",
      "274         0               94              47\n",
      "275         0               62              83\n",
      "276         1              113              77\n",
      "277         0               76              72\n",
      "278         1               97              83\n",
      "279         1               92              68\n",
      "280         1               91              95\n",
      "281         0               92              86\n",
      "282         1               82              67\n",
      "283         1              112              66\n",
      "284         1               86              98\n",
      "285         0               68              54\n",
      "286         1              109              70\n",
      "287         0              102              73\n",
      "288         1               70              82\n",
      "289         0               79              87\n",
      "290         1               88              86\n",
      "291         1              120              88\n",
      "292         1               51              62\n",
      "293         0               96              91\n",
      "294         1               97              74\n",
      "295         0               78              69\n",
      "296         1               98              72\n",
      "297         1               70              80\n",
      "298         0               57              66\n",
      "299         1               93              79\n",
      "300         0              106              87\n"
     ]
    }
   ],
   "source": [
    "DBP_summaryTable <- data.frame(\n",
    "    Treatment = df$Trt,\n",
    "    Diastolic_before = df$DBP1,\n",
    "    Diastolic_after = df$DBP2)\n",
    "print(DBP_summaryTable)"
   ]
  },
  {
   "cell_type": "code",
   "execution_count": 9,
   "id": "5e9ef433",
   "metadata": {},
   "outputs": [
    {
     "data": {
      "text/plain": [
       "   Treatment      Diastolic_before Diastolic_after \n",
       " Min.   :0.0000   Min.   : 46.00   Min.   : 31.00  \n",
       " 1st Qu.:0.0000   1st Qu.: 75.00   1st Qu.: 66.00  \n",
       " Median :1.0000   Median : 85.00   Median : 76.00  \n",
       " Mean   :0.5067   Mean   : 86.03   Mean   : 75.11  \n",
       " 3rd Qu.:1.0000   3rd Qu.: 96.00   3rd Qu.: 85.25  \n",
       " Max.   :1.0000   Max.   :155.00   Max.   :118.00  "
      ]
     },
     "metadata": {},
     "output_type": "display_data"
    }
   ],
   "source": [
    "summary(DBP_summaryTable)"
   ]
  },
  {
   "cell_type": "code",
   "execution_count": 10,
   "id": "f9cc9c74",
   "metadata": {},
   "outputs": [
    {
     "data": {
      "text/plain": [
       "   Min. 1st Qu.  Median    Mean 3rd Qu.    Max. \n",
       "  49.05   76.79   85.30   86.55   96.12  137.86 "
      ]
     },
     "metadata": {},
     "output_type": "display_data"
    },
    {
     "data": {
      "text/plain": [
       "   Min. 1st Qu.  Median    Mean 3rd Qu.    Max. \n",
       "  32.85   65.95   75.68   75.14   85.33  113.57 "
      ]
     },
     "metadata": {},
     "output_type": "display_data"
    }
   ],
   "source": [
    "# Generating Sample Data\n",
    "set.seed(123) # Ensure reproducibility. The same \"seed\" will give the same output every time\n",
    "beforeGroup <- rnorm(300, mean = 86, sd = 16) # Control group\n",
    "afterGroup <- rnorm(300, mean = 75, sd = 15) # Treatment group\n",
    "\n",
    "# Viewing a summary of the data\n",
    "summary(beforeGroup)\n",
    "summary(afterGroup)\n"
   ]
  },
  {
   "cell_type": "markdown",
   "id": "7d236020",
   "metadata": {},
   "source": [
    "<img src = \"PRequation.png\">"
   ]
  },
  {
   "cell_type": "code",
   "execution_count": 11,
   "id": "4e663816",
   "metadata": {},
   "outputs": [
    {
     "name": "stdout",
     "output_type": "stream",
     "text": [
      "[1] 0.03494596\n",
      "[1] \"direction of correlation is positive\"\n"
     ]
    }
   ],
   "source": [
    "# Define the data\n",
    "DBP_before <- DBP_summaryTable$Diastolic_before\n",
    "DBP_after <- DBP_summaryTable$Diastolic_after\n",
    "\n",
    "# Calculations\n",
    "sum_x <- sum(DBP_before)\n",
    "sum_y <- sum(DBP_after)\n",
    "sum_xy <- sum(DBP_before * DBP_after)\n",
    "sum_x_squared <- sum(DBP_before^2)\n",
    "sum_y_squared <- sum(DBP_after^2)\n",
    "n <- length(DBP_before) # Number of participants (observations)\n",
    "\n",
    "# Apply the Pearson correlation coefficient formula\n",
    "numerator <- n * sum_xy - sum_x * sum_y\n",
    "denominator <- sqrt((n * sum_x_squared - sum_x^2) * (n * sum_y_squared - sum_y^2))\n",
    "\n",
    "r <- numerator / denominator\n",
    "\n",
    "# Print the calculated correlation coefficient\n",
    "print(r)\n",
    "if (r < 0){\n",
    "    print(\"direction of correlation is negative\")\n",
    "}else if (r==0){\n",
    "    print(\"no correlation\")\n",
    "}else{\n",
    "    print(\"direction of correlation is positive\")\n",
    "}\n",
    "#correlation is weak positive "
   ]
  },
  {
   "cell_type": "markdown",
   "id": "ee82f9e9",
   "metadata": {},
   "source": [
    "<img src = \"tStat.PNG\">"
   ]
  },
  {
   "cell_type": "code",
   "execution_count": 12,
   "id": "5c137015",
   "metadata": {},
   "outputs": [
    {
     "name": "stdout",
     "output_type": "stream",
     "text": [
      "[1] 0.6036295\n"
     ]
    }
   ],
   "source": [
    "#calculating t statistic of correlation coefficient to test significance \n",
    "#variables \n",
    "r<- 0.03494596\n",
    "n<- length(DBP_before)\n",
    "t<- (r* sqrt(n-2))/sqrt(1-(r^2))\n",
    "print(t)"
   ]
  },
  {
   "cell_type": "code",
   "execution_count": 13,
   "id": "1e918216",
   "metadata": {},
   "outputs": [
    {
     "data": {
      "text/html": [
       "0.546549188934066"
      ],
      "text/latex": [
       "0.546549188934066"
      ],
      "text/markdown": [
       "0.546549188934066"
      ],
      "text/plain": [
       "[1] 0.5465492"
      ]
     },
     "metadata": {},
     "output_type": "display_data"
    },
    {
     "name": "stdout",
     "output_type": "stream",
     "text": [
      "[1] \"there's no concrete association between DBP before and after\"\n"
     ]
    }
   ],
   "source": [
    "\n",
    "#looking for a difference so its a two-tailed p-value, subtract the cumulative probability from 1 and multiply by 2\n",
    "dof= n - 2\n",
    "p_value <- 2 * (1 - pt(abs(t), dof))\n",
    "p_value\n",
    "\n",
    "if (p_value < 0.05) {\n",
    "  print(\"there is an evident association between DBP before and after treatment\")\n",
    "}else{\n",
    "    print(\"there's no concrete association between DBP before and after\")\n",
    "}\n"
   ]
  },
  {
   "cell_type": "code",
   "execution_count": 14,
   "id": "b29dfb04",
   "metadata": {},
   "outputs": [
    {
     "data": {
      "text/plain": [
       "\n",
       "\tPearson's product-moment correlation\n",
       "\n",
       "data:  DBP_before and DBP_after\n",
       "t = 0.60363, df = 298, p-value = 0.5465\n",
       "alternative hypothesis: true correlation is not equal to 0\n",
       "95 percent confidence interval:\n",
       " -0.07860595  0.14760269\n",
       "sample estimates:\n",
       "       cor \n",
       "0.03494596 \n"
      ]
     },
     "metadata": {},
     "output_type": "display_data"
    }
   ],
   "source": [
    "#for extra detail\n",
    "cor.test(DBP_before, DBP_after)"
   ]
  },
  {
   "cell_type": "markdown",
   "id": "c635245f",
   "metadata": {},
   "source": [
    "Now lets write down the model equation for the simple linear regression with DBP at the start of the study as the only covariate. \n",
    "yi= a + Bx + ei where:\n",
    "   •y is the DBP after trial \n",
    "   •a is the intercept \n",
    "   •Bx is the slope of DBP before trial\n",
    "   •e is the standard error\n"
   ]
  },
  {
   "cell_type": "code",
   "execution_count": 15,
   "id": "44480f13",
   "metadata": {},
   "outputs": [
    {
     "name": "stdout",
     "output_type": "stream",
     "text": [
      "[1] \"Slope:  0.03\"\n",
      "[1] \"Intercept:  72.37\"\n"
     ]
    }
   ],
   "source": [
    "#calculating beta_0 the interpect an beta_1 the slope \n",
    "\n",
    "# Calculate the necessary components\n",
    "mean_x <- mean(DBP_before)\n",
    "mean_y <- mean(DBP_after)\n",
    "\n",
    "# Calculate the slope (beta_1)\n",
    "beta_1 <- (n * sum_xy - sum_x * sum_y) / (n * sum_x_squared - sum_x^2)\n",
    "\n",
    "# Calculate the intercept (beta_0)\n",
    "beta_0 <- mean_y - beta_1 * mean_x\n",
    "\n",
    "# Print the coefficients\n",
    "print(paste(\"Slope: \", round(beta_1, 2)))\n",
    "print(paste(\"Intercept: \", round(beta_0, 2)))"
   ]
  },
  {
   "cell_type": "code",
   "execution_count": 16,
   "id": "b9bd0f22",
   "metadata": {},
   "outputs": [
    {
     "data": {
      "image/png": "[encoded data removed]",
      "text/plain": [
       "Plot with title “Intercept:  72.37   Slope 0.03”"
      ]
     },
     "metadata": {
      "image/png": {
       "height": 420,
       "width": 420
      }
     },
     "output_type": "display_data"
    }
   ],
   "source": [
    "plot(DBP_before, DBP_after, main = paste(\"Intercept: \", round(beta_0, 2), \"  Slope\", round(beta_1, 2)))\n",
    "abline(a = 72.37, b = 0.03, col = \"red\", lwd = 4) # Here, a=Intercept, b=Slope.\n"
   ]
  },
  {
   "cell_type": "code",
   "execution_count": 17,
   "id": "25001c17",
   "metadata": {},
   "outputs": [],
   "source": [
    "x <- DBP_before\n",
    "y <-DBP_after\n",
    "\n",
    "# Fit the model\n",
    "model <- lm(y ~ x)\n"
   ]
  },
  {
   "cell_type": "code",
   "execution_count": 18,
   "id": "41c8eb0a",
   "metadata": {},
   "outputs": [
    {
     "data": {
      "text/plain": [
       "\n",
       "Call:\n",
       "lm(formula = y ~ x)\n",
       "\n",
       "Residuals:\n",
       "    Min      1Q  Median      3Q     Max \n",
       "-43.985  -8.961   0.744  10.616  43.334 \n",
       "\n",
       "Coefficients:\n",
       "            Estimate Std. Error t value Pr(>|t|)    \n",
       "(Intercept) 72.37215    4.62026  15.664   <2e-16 ***\n",
       "x            0.03186    0.05279   0.604    0.547    \n",
       "---\n",
       "Signif. codes:  0 ‘***’ 0.001 ‘**’ 0.01 ‘*’ 0.05 ‘.’ 0.1 ‘ ’ 1\n",
       "\n",
       "Residual standard error: 14.74 on 298 degrees of freedom\n",
       "Multiple R-squared:  0.001221,\tAdjusted R-squared:  -0.00213 \n",
       "F-statistic: 0.3644 on 1 and 298 DF,  p-value: 0.5465\n"
      ]
     },
     "metadata": {},
     "output_type": "display_data"
    }
   ],
   "source": [
    "summary(model)"
   ]
  },
  {
   "cell_type": "code",
   "execution_count": 19,
   "id": "308b6f89",
   "metadata": {
    "scrolled": false
   },
   "outputs": [
    {
     "data": {
      "text/html": [
       "<table class=\"dataframe\">\n",
       "<caption>A data.frame: 2 × 5</caption>\n",
       "<thead>\n",
       "\t<tr><th scope=col>Coefficients</th><th scope=col>Estimates</th><th scope=col>StandardError</th><th scope=col>Cl</th><th scope=col>p_value</th></tr>\n",
       "\t<tr><th scope=col>&lt;chr&gt;</th><th scope=col>&lt;dbl&gt;</th><th scope=col>&lt;dbl&gt;</th><th scope=col>&lt;dbl&gt;</th><th scope=col>&lt;chr&gt;</th></tr>\n",
       "</thead>\n",
       "<tbody>\n",
       "\t<tr><td>Intercept                        </td><td>72.372</td><td>4.620</td><td>-0.079</td><td>2e-16</td></tr>\n",
       "\t<tr><td>slope(DBP slope before treatment)</td><td> 0.032</td><td>0.053</td><td> 0.148</td><td>0.547</td></tr>\n",
       "</tbody>\n",
       "</table>\n"
      ],
      "text/latex": [
       "A data.frame: 2 × 5\n",
       "\\begin{tabular}{lllll}\n",
       " Coefficients & Estimates & StandardError & Cl & p\\_value\\\\\n",
       " <chr> & <dbl> & <dbl> & <dbl> & <chr>\\\\\n",
       "\\hline\n",
       "\t Intercept                         & 72.372 & 4.620 & -0.079 & 2e-16\\\\\n",
       "\t slope(DBP slope before treatment) &  0.032 & 0.053 &  0.148 & 0.547\\\\\n",
       "\\end{tabular}\n"
      ],
      "text/markdown": [
       "\n",
       "A data.frame: 2 × 5\n",
       "\n",
       "| Coefficients &lt;chr&gt; | Estimates &lt;dbl&gt; | StandardError &lt;dbl&gt; | Cl &lt;dbl&gt; | p_value &lt;chr&gt; |\n",
       "|---|---|---|---|---|\n",
       "| Intercept                         | 72.372 | 4.620 | -0.079 | 2e-16 |\n",
       "| slope(DBP slope before treatment) |  0.032 | 0.053 |  0.148 | 0.547 |\n",
       "\n"
      ],
      "text/plain": [
       "  Coefficients                      Estimates StandardError Cl     p_value\n",
       "1 Intercept                         72.372    4.620         -0.079 2e-16  \n",
       "2 slope(DBP slope before treatment)  0.032    0.053          0.148 0.547  "
      ]
     },
     "metadata": {},
     "output_type": "display_data"
    }
   ],
   "source": [
    "Coefficients <- c(\"Intercept\", \"slope(DBP slope before treatment)\")\n",
    "Estimates <- c(beta_0, beta_1)\n",
    "StandardError <- c(4.62026 , 0.05279)\n",
    "Cl<- c(-0.07860595,0.14760269)\n",
    "p_value<-c(\"2e-16\",0.547)\n",
    "Estimates<-round(Estimates,3)\n",
    "StandardError<-round(StandardError,3)\n",
    "Cl<- round(Cl,3)\n",
    "modelTable <- data.frame(Coefficients, Estimates, StandardError,Cl,p_value)\n",
    "modelTable "
   ]
  },
  {
   "cell_type": "markdown",
   "id": "bb45cc33",
   "metadata": {},
   "source": [
    "<h1>So what have we noticed?</h1>\n",
    "\n",
    "<ul>\n",
    "<li>When DBP before the trial is 0, the base DBP level after the trial is 72.372mmHg.</li>\n",
    "<br>\n",
    "<li>The slope coefficient is a magnitude 0.032, being the average change in the DBP after the trial.</li>\n",
    "<br>\n",
    "<li>There is no statistical significance, because the value calculated was bigger than p<0.05, so there is more than a 5% chance of the observed association occurring by chance, making the results insignificant.</li>\n",
    "</ul>"
   ]
  },
  {
   "cell_type": "markdown",
   "id": "002a6b78",
   "metadata": {},
   "source": [
    "<b>What assumptions does our model make and how can we further investigate them?</b>\n",
    "Time to produce an appropriate residual plots and interpret;)\n",
    "Results?\n",
    "<br>\n",
    "There is a linear relationship shown between DBP before and after the trial, and evident from the random cluster that each observed parameter is independent. This satisfies the assumption of linearity and independence from the model. But, the consistency varies due to the amount of outliers, so the assumption that the scattering is consistent is unsatisfactory."
   ]
  },
  {
   "cell_type": "code",
   "execution_count": 20,
   "id": "aae72a24",
   "metadata": {},
   "outputs": [
    {
     "data": {
      "image/png": "[encoded data removed]",
      "text/plain": [
       "Plot with title “Scatter Plot with Residuals”"
      ]
     },
     "metadata": {
      "image/png": {
       "height": 420,
       "width": 420
      }
     },
     "output_type": "display_data"
    }
   ],
   "source": [
    "# Fit the linear model for hp ~ mpg in mtcars dataset\n",
    "residual_model <- lm(DBP_before ~ DBP_after, data = DBP_summaryTable)\n",
    "\n",
    "# Create a new dataframe that includes the original data, the fitted values, and the residuals\n",
    "DBP_summaryTable$model_fitted <- fitted(residual_model)\n",
    " DBP_summaryTable$model_residuals <- residuals(residual_model)\n",
    "\n",
    "# Open a new graphics window\n",
    "\n",
    "# Plot 1: Scatter plot with all residuals\n",
    "plot( DBP_summaryTable$Diastolic_before,  DBP_summaryTable$Diastolic_after, xlab = \"before (mmHg)\", ylab = \"after (mmHg)\", \n",
    "     main = \"Scatter Plot with Residuals\", pch = 16, col = \"blue\")\n",
    "abline(model, col = \"red\") # Add the regression line\n",
    "segments( DBP_summaryTable$Diastolic_before,  DBP_summaryTable$Diastolic_after,  DBP_summaryTable$Diastolic_before,  DBP_summaryTable$model_fitted, col = \"blue\") # Draw residuals"
   ]
  },
  {
   "cell_type": "markdown",
   "id": "b90135af",
   "metadata": {},
   "source": [
    "Tp make things more interesting, lets imagine the clinical team want to investigate the relationship between categorical DBP (defined\n",
    "as 0 = “DBP2 < 90”, 1 = “DBP2 ≥ 90”) at the end of the study (DBP2) with treatment (Trt).\n"
   ]
  },
  {
   "cell_type": "markdown",
   "id": "a515068c",
   "metadata": {},
   "source": [
    "Lets generate a categorical DBP variable at the end of study where 0 = “DBP2 < 90” signifies DBP2\n",
    "values less than 90 mmHg and 1 = “DBP2 ≥ 90” signifies DBP values greater than or equal to\n",
    "90 mmHg."
   ]
  },
  {
   "cell_type": "code",
   "execution_count": 21,
   "id": "39255cbc",
   "metadata": {},
   "outputs": [],
   "source": [
    "DBP_summaryTable$DBP2_category <- ifelse(DBP_summaryTable$Diastolic_after < 90,0,1)# create a variable that uses an if loop assess every observation in the dataset"
   ]
  },
  {
   "cell_type": "markdown",
   "id": "e7d3328f",
   "metadata": {},
   "source": [
    "Now we can produce a 2 x 2 table to summarise treatment and categorical DBP variables. We will perform a statistical test <i>(Chi squared test)</i> to evaluate the hypothesis that there is no association between treatment groups and DBP2 categories.  \n",
    "Results?\n",
    "Since the p-values are less than 0.05(95% CI), we can reject the null hypothesis of no association between treated participants and high DBP. The chi squared value isn’t 0, so that suggests there’s a statistically significant association."
   ]
  },
  {
   "cell_type": "code",
   "execution_count": 22,
   "id": "cd6c3e15",
   "metadata": {},
   "outputs": [
    {
     "name": "stdout",
     "output_type": "stream",
     "text": [
      "         DBP2\n",
      "Treatment   0   1\n",
      "        0 118  30\n",
      "        1 135  17\n"
     ]
    }
   ],
   "source": [
    "#create table\n",
    "Treatment<- DBP_summaryTable$Treatment#where 0 = placebo and 1= medication \n",
    "DBP2 <- DBP_summaryTable$DBP2_category#where 0 = low and 1 = high \n",
    "contingency_table <- table(Treatment,DBP2)\n",
    "print(contingency_table)"
   ]
  },
  {
   "cell_type": "markdown",
   "id": "333895ef",
   "metadata": {},
   "source": [
    "<img src = \"chisquare.PNG\">"
   ]
  },
  {
   "cell_type": "code",
   "execution_count": 23,
   "id": "9a813dc0",
   "metadata": {},
   "outputs": [],
   "source": [
    "#chi squared manual way \n",
    "# Manually calculate row totals and column totals\n",
    "row_totals <- c(sum(contingency_table[1,]), sum(contingency_table[2,]))\n",
    "col_totals <- c(sum(contingency_table[,1]), sum(contingency_table[,2]))\n",
    "\n",
    "# Calculate grand total\n",
    "grand_total <- sum(contingency_table)\n",
    "\n",
    "# Manually compute expected frequencies for each cell\n",
    "expected_11 <- (row_totals[1] * col_totals[1]) / grand_total\n",
    "expected_12 <- (row_totals[1] * col_totals[2]) / grand_total\n",
    "expected_21 <- (row_totals[2] * col_totals[1]) / grand_total\n",
    "expected_22 <- (row_totals[2] * col_totals[2]) / grand_total\n",
    "\n",
    "expected <- matrix(c(expected_11, expected_21, expected_12, expected_22), nrow = 2)\n",
    "\n"
   ]
  },
  {
   "cell_type": "code",
   "execution_count": 24,
   "id": "5cc6595a",
   "metadata": {},
   "outputs": [],
   "source": [
    "chi_statistic <- ((contingency_table - expected_11)^2 / expected_11)+((contingency_table[1,2]-expected_12)^2 /expected_12)+\n",
    "                ((contingency_table[2,1]-expected_21)^2 /expected_21)+((contingency_table[2,2]-expected_22)^2 / expected_22)\n",
    "\n",
    "df <- (nrow(contingency_table)-1)*(ncol(contingency_table)-1)\n",
    "#p value \n",
    "pVal<- pchisq(chi_statistic,df,lower.tail = FALSE)"
   ]
  },
  {
   "cell_type": "code",
   "execution_count": 25,
   "id": "003b09d7",
   "metadata": {},
   "outputs": [
    {
     "name": "stdout",
     "output_type": "stream",
     "text": [
      "Chi-squared statistic: 4.685537 5.144996 76.33771 97.4424 \n",
      "Degrees of freedom: 1 \n",
      "P-value: 0.03041756 0.02331346 2.390746e-18 5.544593e-23 \n"
     ]
    }
   ],
   "source": [
    "cat(\"Chi-squared statistic:\", chi_statistic, \"\\n\")\n",
    "cat(\"Degrees of freedom:\", df, \"\\n\")\n",
    "cat(\"P-value:\", pVal, \"\\n\")\n"
   ]
  },
  {
   "cell_type": "code",
   "execution_count": 26,
   "id": "b5aa33b1",
   "metadata": {},
   "outputs": [
    {
     "data": {
      "text/plain": [
       "\n",
       "\tPearson's Chi-squared test\n",
       "\n",
       "data:  contingency_table\n",
       "X-squared = 4.6855, df = 1, p-value = 0.03042\n"
      ]
     },
     "metadata": {},
     "output_type": "display_data"
    }
   ],
   "source": [
    "#simplified\n",
    "chisq.test(contingency_table, correct = FALSE)"
   ]
  },
  {
   "cell_type": "markdown",
   "id": "8fc10ce4",
   "metadata": {},
   "source": [
    "Let's Calculate the odds ratio of high DBP2 (categorical DBP value equals to 1) in the active\n",
    "treatment group compared to placebo with 95% CI and interpret the results.<a href=\"https://www.youtube.com/watch?v=tzeX01kFs1U&t=538s\"> What is Odds Ratio?</a>\n",
    "<br>\n",
    "Results?\n",
    "The odds ratio(0.495), is smaller than 1, indicating the odds are low of a high DBP after treatment. In other words, patients who received the treatment, are 0.495 times more likely to have a higher DBP afterwards than those who received the placebo(the control group) which is very low. "
   ]
  },
  {
   "cell_type": "code",
   "execution_count": 27,
   "id": "c7b37568",
   "metadata": {},
   "outputs": [
    {
     "data": {
      "text/plain": [
       "         DBP2\n",
       "Treatment   0   1\n",
       "        0 118  30\n",
       "        1 135  17"
      ]
     },
     "metadata": {},
     "output_type": "display_data"
    }
   ],
   "source": [
    "contingency_table"
   ]
  },
  {
   "cell_type": "code",
   "execution_count": 28,
   "id": "dec53425",
   "metadata": {},
   "outputs": [],
   "source": [
    "#based on the OR formula in class \n",
    "#treatment group odds for high DBP2\n",
    "trt_p <- 17/152\n",
    "trt_1p <- 1 - trt_p\n",
    "trtOdds<- trt_p/trt_1p\n",
    "#control(placebo) group odds for high DBP2\n",
    "control_p <- 30/148\n",
    "control_1p <- 1 - control_p\n",
    "controlOdds <- control_p/control_1p\n",
    "#odds ratio \n",
    "oddsRatio <- trtOdds/controlOdds\n",
    "oddsRatio<- round(oddsRatio,3)"
   ]
  },
  {
   "cell_type": "code",
   "execution_count": 29,
   "id": "d646f9fb",
   "metadata": {},
   "outputs": [
    {
     "name": "stdout",
     "output_type": "stream",
     "text": [
      "[1] \"lower odds of a high DBP after trial\"\n"
     ]
    }
   ],
   "source": [
    "if (oddsRatio > 1){\n",
    "    print(\"higher odds of a high DBP after trial\")\n",
    "}else if (oddsRatio < 1){\n",
    "    print(\"lower odds of a high DBP after trial\")\n",
    "}else{\n",
    "    print(\"exposure doesn't affect odds of having high Diastolic Blood Pressure at the end of the trial\")\n",
    "}\n"
   ]
  },
  {
   "cell_type": "code",
   "execution_count": 30,
   "id": "c4c88810",
   "metadata": {},
   "outputs": [
    {
     "data": {
      "text/plain": [
       "\n",
       "Call:\n",
       "glm(formula = DBP2_category ~ Treatment, family = binomial, data = DBP_summaryTable)\n",
       "\n",
       "Deviance Residuals: \n",
       "    Min       1Q   Median       3Q      Max  \n",
       "-0.6731  -0.6731  -0.4870  -0.4870   2.0932  \n",
       "\n",
       "Coefficients:\n",
       "            Estimate Std. Error z value Pr(>|z|)    \n",
       "(Intercept)  -1.3695     0.2045  -6.698 2.12e-11 ***\n",
       "Treatment    -0.7026     0.3287  -2.138   0.0326 *  \n",
       "---\n",
       "Signif. codes:  0 ‘***’ 0.001 ‘**’ 0.01 ‘*’ 0.05 ‘.’ 0.1 ‘ ’ 1\n",
       "\n",
       "(Dispersion parameter for binomial family taken to be 1)\n",
       "\n",
       "    Null deviance: 260.46  on 299  degrees of freedom\n",
       "Residual deviance: 255.73  on 298  degrees of freedom\n",
       "AIC: 259.73\n",
       "\n",
       "Number of Fisher Scoring iterations: 4\n"
      ]
     },
     "metadata": {},
     "output_type": "display_data"
    }
   ],
   "source": [
    "#logit(y)= a + Bx\n",
    "# Logistic Regression Model\n",
    "DBP2_model <- glm(DBP2_category ~ Treatment, family = binomial, data = DBP_summaryTable)\n",
    "\n",
    "\n",
    "# Display the summary of the logistic regression model\n",
    "summary(DBP2_model)\n"
   ]
  },
  {
   "cell_type": "code",
   "execution_count": 31,
   "id": "d2b92ab7",
   "metadata": {},
   "outputs": [
    {
     "name": "stdout",
     "output_type": "stream",
     "text": [
      "              Estimate Lower_95_CI Upper_95_CI\n",
      "(Intercept) -1.3694872   -1.770248 -0.96872650\n",
      "Treatment   -0.7025742   -1.346803 -0.05834544\n"
     ]
    }
   ],
   "source": [
    "\n",
    "# Extracting coefficients and their standard errors\n",
    "coefs <- coef(summary(DBP2_model))\n",
    "estimates <- coefs[, \"Estimate\"]\n",
    "stdE <- coefs[, \"Std. Error\"]\n",
    "\n",
    "# Calculate 95% Confidence Intervals\n",
    "ci_lower <- estimates - 1.96 * stdE\n",
    "ci_upper <- estimates + 1.96 * stdE\n",
    "\n",
    "# Cl table    \n",
    "confidence_intervals <- data.frame(\n",
    "  Estimate = estimates,\n",
    "  Lower_95_CI = ci_lower,\n",
    "  Upper_95_CI = ci_upper\n",
    ")\n",
    "\n",
    "# Print the results\n",
    "print(confidence_intervals)\n"
   ]
  },
  {
   "cell_type": "markdown",
   "id": "4a6c3fda",
   "metadata": {},
   "source": [
    "Lets write down the model equation for the logistic regression using treatment (Trt) to predict the binary DBP2 level.  \n",
    "<br>\n",
    "logit(y) = a + Bx "
   ]
  },
  {
   "cell_type": "markdown",
   "id": "77403e21",
   "metadata": {},
   "source": [
    "Lets attempt to fit it a logistic regression for our model defined previously."
   ]
  },
  {
   "cell_type": "code",
   "execution_count": 32,
   "id": "7137e61a",
   "metadata": {},
   "outputs": [],
   "source": [
    "#logit(y)= a + Bx\n",
    "# Logistic Regression Model\n",
    "DBP2_model <- glm(DBP2_category ~ Treatment, family = binomial, data = DBP_summaryTable)\n"
   ]
  },
  {
   "cell_type": "markdown",
   "id": "924220db",
   "metadata": {},
   "source": [
    "<b>Things we've noticed </b> \n",
    "<ul>\n",
    "<li>The negative coefficient for the treatment group suggests there’s a negative association between treatment and high DBP. This means, when applying the treatment, there’s a potential decrease in high DBP.</li>\n",
    "<br>\n",
    "<li>Both Confidence interval values are less than p<0.05, meaning we can be confident at a 95% level, that these effects are not just by chance, potentially the treatment has a positive impact on hypertension for those with high Diastolic Blood pressure.</li>\n",
    "</ul>"
   ]
  }
 ],
 "metadata": {
  "kernelspec": {
   "display_name": "R",
   "language": "R",
   "name": "ir"
  },
  "language_info": {
   "codemirror_mode": "r",
   "file_extension": ".r",
   "mimetype": "text/x-r-source",
   "name": "R",
   "pygments_lexer": "r",
   "version": "4.1.1"
  }
 },
 "nbformat": 4,
 "nbformat_minor": 5
}
